{
 "cells": [
  {
   "cell_type": "markdown",
   "metadata": {},
   "source": [
    "# Introduction:"
   ]
  },
  {
   "cell_type": "markdown",
   "metadata": {},
   "source": [
    "Bangalore, the capital of the state of Karnataka, is not only known as the ‘Silicon Valley of India’ but it is also the ‘Pub Capital of India.\n",
    "\n",
    "Ever since the IT boom in India, Bangalore has been flooded with people from all of India and abroad and with the advent of this young energetic group of individuals, the night life of Bangalore grew, with the establishment of numerous clubs, pubs and restaurants.   \n",
    "\n",
    "With the hope of riding the wave of young and diverse people’s advent into the city, most of the venues were constructed near the areas where population of young and office going people were high, but with time there has been a saturation in the market as many business’ have made their mark in the night life industry with multiple chains around the city like SOCIAL, House of Commons, Truffles, Sherlock’s etc.\n",
    "  \n",
    "For someone who wants to start a restaurant or other night life venues, choice of location is very critical as in can make or break them. This project can help with this problem as it will cluster different neighborhoods of the city based on the number of venues already available.\n"
   ]
  },
  {
   "cell_type": "markdown",
   "metadata": {},
   "source": [
    "# Business Problem:"
   ]
  },
  {
   "cell_type": "markdown",
   "metadata": {},
   "source": [
    "The objective here is to use the KMeans algorithm to cluster the different areas based on the number of night life venues present in them.\n",
    "\n",
    "The algorithm will help to differentiate areas with High, Medium and Low density of such venues.\n",
    "It can help a businessman or anyone who wants to build such venues take a small step forward by atleast showing them the areas where they can get the lion’s share of profit instead of stepping into a place where it is already crowded with old established brands\n"
   ]
  },
  {
   "cell_type": "markdown",
   "metadata": {},
   "source": [
    "# Target Audience:"
   ]
  },
  {
   "cell_type": "markdown",
   "metadata": {},
   "source": [
    "This project is particularly useful to property developers and investors looking to open or invest in new night life projects in the pub capital of India. "
   ]
  },
  {
   "cell_type": "markdown",
   "metadata": {},
   "source": [
    "# Data:"
   ]
  },
  {
   "cell_type": "markdown",
   "metadata": {},
   "source": [
    "For this project, we needed:\n",
    "\n",
    "1. List of all of the areas of Bangalore: \n",
    "\t- Sources:\n",
    "    - https://pincode.net.in/\n",
    "    - https://www.indiatvnews.com/pincode/karnataka/bangalore/bangalore-city\n",
    "2. The area’s respective Latitude and Longitude\n",
    "    - Using the Geopy Library\n",
    "3. List of all the venues within a certain radius of the coordinates\n",
    "    - Using the FourSquare API\n"
   ]
  }
 ],
 "metadata": {
  "kernelspec": {
   "display_name": "Python 3",
   "language": "python",
   "name": "python3"
  },
  "language_info": {
   "codemirror_mode": {
    "name": "ipython",
    "version": 3
   },
   "file_extension": ".py",
   "mimetype": "text/x-python",
   "name": "python",
   "nbconvert_exporter": "python",
   "pygments_lexer": "ipython3",
   "version": "3.7.6"
  }
 },
 "nbformat": 4,
 "nbformat_minor": 4
}
